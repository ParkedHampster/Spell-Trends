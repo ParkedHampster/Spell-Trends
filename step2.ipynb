{
 "cells": [
  {
   "attachments": {},
   "cell_type": "markdown",
   "metadata": {},
   "source": [
    "# Data Continuation\n",
    "\n",
    "## Modeling Preparation\n",
    "\n",
    "We'll start off this process by doing much of the same\n",
    "importing as from last time."
   ]
  },
  {
   "cell_type": "code",
   "execution_count": 1,
   "metadata": {},
   "outputs": [],
   "source": [
    "import gc\n",
    "import pandas as pd\n",
    "import numpy as np\n",
    "\n",
    "import seaborn as sns\n",
    "import matplotlib.pyplot as plt\n",
    "\n",
    "import cv2\n",
    "\n",
    "#statsmodels\n",
    "from statsmodels.tsa.arima.model import ARIMA\n",
    "from statsmodels.tsa.stattools import acf, pacf, adfuller\n",
    "from statsmodels.graphics.tsaplots import plot_acf, plot_pacf\n",
    "\n",
    "from nltk.corpus import stopwords\n",
    "\n",
    "from _code.card_selection import card_sampler, \\\n",
    "            plot_card_trends, card_imager, \\\n",
    "                synthesize_names\n",
    "\n",
    "from _code.cleaner import preprocess\n",
    "\n",
    "from _code.viz import showImagesHorizontally, word_plot\n",
    "\n",
    "from _code import card_selection as FUNC_TESTING\n",
    "\n",
    "from IPython.display import Image"
   ]
  },
  {
   "cell_type": "code",
   "execution_count": 3,
   "metadata": {},
   "outputs": [
    {
     "name": "stderr",
     "output_type": "stream",
     "text": [
      "/tmp/ipykernel_922502/1125394831.py:1: DtypeWarning: Columns (32) have mixed types. Specify dtype option on import or set low_memory=False.\n",
      "  cards = pd.read_csv('./data/simplified_cards.csv')\n"
     ]
    }
   ],
   "source": [
    "cards = pd.read_csv('./data/simplified_cards.csv')"
   ]
  },
  {
   "cell_type": "code",
   "execution_count": 15,
   "metadata": {},
   "outputs": [
    {
     "name": "stdout",
     "output_type": "stream",
     "text": [
      "\u001b[0;31mSignature:\u001b[0m \u001b[0mpos_tag\u001b[0m\u001b[0;34m(\u001b[0m\u001b[0mtokens\u001b[0m\u001b[0;34m,\u001b[0m \u001b[0mtagset\u001b[0m\u001b[0;34m=\u001b[0m\u001b[0;32mNone\u001b[0m\u001b[0;34m,\u001b[0m \u001b[0mlang\u001b[0m\u001b[0;34m=\u001b[0m\u001b[0;34m'eng'\u001b[0m\u001b[0;34m)\u001b[0m\u001b[0;34m\u001b[0m\u001b[0;34m\u001b[0m\u001b[0m\n",
      "\u001b[0;31mDocstring:\u001b[0m\n",
      "Use NLTK's currently recommended part of speech tagger to\n",
      "tag the given list of tokens.\n",
      "\n",
      "    >>> from nltk.tag import pos_tag\n",
      "    >>> from nltk.tokenize import word_tokenize\n",
      "    >>> pos_tag(word_tokenize(\"John's big idea isn't all that bad.\")) # doctest: +NORMALIZE_WHITESPACE\n",
      "    [('John', 'NNP'), (\"'s\", 'POS'), ('big', 'JJ'), ('idea', 'NN'), ('is', 'VBZ'),\n",
      "    (\"n't\", 'RB'), ('all', 'PDT'), ('that', 'DT'), ('bad', 'JJ'), ('.', '.')]\n",
      "    >>> pos_tag(word_tokenize(\"John's big idea isn't all that bad.\"), tagset='universal') # doctest: +NORMALIZE_WHITESPACE\n",
      "    [('John', 'NOUN'), (\"'s\", 'PRT'), ('big', 'ADJ'), ('idea', 'NOUN'), ('is', 'VERB'),\n",
      "    (\"n't\", 'ADV'), ('all', 'DET'), ('that', 'DET'), ('bad', 'ADJ'), ('.', '.')]\n",
      "\n",
      "NB. Use `pos_tag_sents()` for efficient tagging of more than one sentence.\n",
      "\n",
      ":param tokens: Sequence of tokens to be tagged\n",
      ":type tokens: list(str)\n",
      ":param tagset: the tagset to be used, e.g. universal, wsj, brown\n",
      ":type tagset: str\n",
      ":param lang: the ISO 639 code of the language, e.g. 'eng' for English, 'rus' for Russian\n",
      ":type lang: str\n",
      ":return: The tagged tokens\n",
      ":rtype: list(tuple(str, str))\n",
      "\u001b[0;31mFile:\u001b[0m      ~/anaconda3/envs/spells/lib/python3.11/site-packages/nltk/tag/__init__.py\n",
      "\u001b[0;31mType:\u001b[0m      function"
     ]
    }
   ],
   "source": [
    "from nltk import pos_tag\n",
    "\n",
    "pos_tag?"
   ]
  },
  {
   "cell_type": "code",
   "execution_count": 13,
   "metadata": {},
   "outputs": [
    {
     "ename": "AttributeError",
     "evalue": "'tuple' object has no attribute 'isdigit'",
     "output_type": "error",
     "traceback": [
      "\u001b[0;31m---------------------------------------------------------------------------\u001b[0m",
      "\u001b[0;31mAttributeError\u001b[0m                            Traceback (most recent call last)",
      "Cell \u001b[0;32mIn[13], line 1\u001b[0m\n\u001b[0;32m----> 1\u001b[0m preprocess(cards[\u001b[39m'\u001b[39;49m\u001b[39moracle_text\u001b[39;49m\u001b[39m'\u001b[39;49m]\u001b[39m.\u001b[39;49msample(\u001b[39m20\u001b[39;49m))\n",
      "File \u001b[0;32m~/Documents/open_notebooks/Spell-Trends/_code/cleaner.py:75\u001b[0m, in \u001b[0;36mpreprocess\u001b[0;34m(texts, sw, tokenizer, lang, ret_tokens)\u001b[0m\n\u001b[1;32m     73\u001b[0m full_tokens  \u001b[39m=\u001b[39m []\n\u001b[1;32m     74\u001b[0m \u001b[39mfor\u001b[39;00m text \u001b[39min\u001b[39;00m clean_texts:\n\u001b[0;32m---> 75\u001b[0m     tagged \u001b[39m=\u001b[39m pos_tag(text)\n\u001b[1;32m     76\u001b[0m     wordnet_tag \u001b[39m=\u001b[39m [(word[\u001b[39m0\u001b[39m], get_wordnet_pos(word[\u001b[39m1\u001b[39m])) \u001b[39mfor\u001b[39;00m word \u001b[39min\u001b[39;00m tagged]\n\u001b[1;32m     77\u001b[0m     token_list_ \u001b[39m=\u001b[39m [lemmer\u001b[39m.\u001b[39mlemmatize(word[\u001b[39m0\u001b[39m],word[\u001b[39m1\u001b[39m]) \u001b[39mfor\u001b[39;00m word \u001b[39min\u001b[39;00m wordnet_tag]\n",
      "File \u001b[0;32m~/anaconda3/envs/spells/lib/python3.11/site-packages/nltk/tag/__init__.py:166\u001b[0m, in \u001b[0;36mpos_tag\u001b[0;34m(tokens, tagset, lang)\u001b[0m\n\u001b[1;32m    141\u001b[0m \u001b[39m\u001b[39m\u001b[39m\"\"\"\u001b[39;00m\n\u001b[1;32m    142\u001b[0m \u001b[39mUse NLTK's currently recommended part of speech tagger to\u001b[39;00m\n\u001b[1;32m    143\u001b[0m \u001b[39mtag the given list of tokens.\u001b[39;00m\n\u001b[0;32m   (...)\u001b[0m\n\u001b[1;32m    163\u001b[0m \u001b[39m:rtype: list(tuple(str, str))\u001b[39;00m\n\u001b[1;32m    164\u001b[0m \u001b[39m\"\"\"\u001b[39;00m\n\u001b[1;32m    165\u001b[0m tagger \u001b[39m=\u001b[39m _get_tagger(lang)\n\u001b[0;32m--> 166\u001b[0m \u001b[39mreturn\u001b[39;00m _pos_tag(tokens, tagset, tagger, lang)\n",
      "File \u001b[0;32m~/anaconda3/envs/spells/lib/python3.11/site-packages/nltk/tag/__init__.py:123\u001b[0m, in \u001b[0;36m_pos_tag\u001b[0;34m(tokens, tagset, tagger, lang)\u001b[0m\n\u001b[1;32m    120\u001b[0m     \u001b[39mraise\u001b[39;00m \u001b[39mTypeError\u001b[39;00m(\u001b[39m\"\u001b[39m\u001b[39mtokens: expected a list of strings, got a string\u001b[39m\u001b[39m\"\u001b[39m)\n\u001b[1;32m    122\u001b[0m \u001b[39melse\u001b[39;00m:\n\u001b[0;32m--> 123\u001b[0m     tagged_tokens \u001b[39m=\u001b[39m tagger\u001b[39m.\u001b[39;49mtag(tokens)\n\u001b[1;32m    124\u001b[0m     \u001b[39mif\u001b[39;00m tagset:  \u001b[39m# Maps to the specified tagset.\u001b[39;00m\n\u001b[1;32m    125\u001b[0m         \u001b[39mif\u001b[39;00m lang \u001b[39m==\u001b[39m \u001b[39m\"\u001b[39m\u001b[39meng\u001b[39m\u001b[39m\"\u001b[39m:\n",
      "File \u001b[0;32m~/anaconda3/envs/spells/lib/python3.11/site-packages/nltk/tag/perceptron.py:180\u001b[0m, in \u001b[0;36mPerceptronTagger.tag\u001b[0;34m(self, tokens, return_conf, use_tagdict)\u001b[0m\n\u001b[1;32m    177\u001b[0m prev, prev2 \u001b[39m=\u001b[39m \u001b[39mself\u001b[39m\u001b[39m.\u001b[39mSTART\n\u001b[1;32m    178\u001b[0m output \u001b[39m=\u001b[39m []\n\u001b[0;32m--> 180\u001b[0m context \u001b[39m=\u001b[39m \u001b[39mself\u001b[39m\u001b[39m.\u001b[39mSTART \u001b[39m+\u001b[39m [\u001b[39mself\u001b[39;49m\u001b[39m.\u001b[39;49mnormalize(w) \u001b[39mfor\u001b[39;49;00m w \u001b[39min\u001b[39;49;00m tokens] \u001b[39m+\u001b[39m \u001b[39mself\u001b[39m\u001b[39m.\u001b[39mEND\n\u001b[1;32m    181\u001b[0m \u001b[39mfor\u001b[39;00m i, word \u001b[39min\u001b[39;00m \u001b[39menumerate\u001b[39m(tokens):\n\u001b[1;32m    182\u001b[0m     tag, conf \u001b[39m=\u001b[39m (\n\u001b[1;32m    183\u001b[0m         (\u001b[39mself\u001b[39m\u001b[39m.\u001b[39mtagdict\u001b[39m.\u001b[39mget(word), \u001b[39m1.0\u001b[39m) \u001b[39mif\u001b[39;00m use_tagdict \u001b[39m==\u001b[39m \u001b[39mTrue\u001b[39;00m \u001b[39melse\u001b[39;00m (\u001b[39mNone\u001b[39;00m, \u001b[39mNone\u001b[39;00m)\n\u001b[1;32m    184\u001b[0m     )\n",
      "File \u001b[0;32m~/anaconda3/envs/spells/lib/python3.11/site-packages/nltk/tag/perceptron.py:180\u001b[0m, in \u001b[0;36m<listcomp>\u001b[0;34m(.0)\u001b[0m\n\u001b[1;32m    177\u001b[0m prev, prev2 \u001b[39m=\u001b[39m \u001b[39mself\u001b[39m\u001b[39m.\u001b[39mSTART\n\u001b[1;32m    178\u001b[0m output \u001b[39m=\u001b[39m []\n\u001b[0;32m--> 180\u001b[0m context \u001b[39m=\u001b[39m \u001b[39mself\u001b[39m\u001b[39m.\u001b[39mSTART \u001b[39m+\u001b[39m [\u001b[39mself\u001b[39;49m\u001b[39m.\u001b[39;49mnormalize(w) \u001b[39mfor\u001b[39;00m w \u001b[39min\u001b[39;00m tokens] \u001b[39m+\u001b[39m \u001b[39mself\u001b[39m\u001b[39m.\u001b[39mEND\n\u001b[1;32m    181\u001b[0m \u001b[39mfor\u001b[39;00m i, word \u001b[39min\u001b[39;00m \u001b[39menumerate\u001b[39m(tokens):\n\u001b[1;32m    182\u001b[0m     tag, conf \u001b[39m=\u001b[39m (\n\u001b[1;32m    183\u001b[0m         (\u001b[39mself\u001b[39m\u001b[39m.\u001b[39mtagdict\u001b[39m.\u001b[39mget(word), \u001b[39m1.0\u001b[39m) \u001b[39mif\u001b[39;00m use_tagdict \u001b[39m==\u001b[39m \u001b[39mTrue\u001b[39;00m \u001b[39melse\u001b[39;00m (\u001b[39mNone\u001b[39;00m, \u001b[39mNone\u001b[39;00m)\n\u001b[1;32m    184\u001b[0m     )\n",
      "File \u001b[0;32m~/anaconda3/envs/spells/lib/python3.11/site-packages/nltk/tag/perceptron.py:277\u001b[0m, in \u001b[0;36mPerceptronTagger.normalize\u001b[0;34m(self, word)\u001b[0m\n\u001b[1;32m    275\u001b[0m \u001b[39mif\u001b[39;00m \u001b[39m\"\u001b[39m\u001b[39m-\u001b[39m\u001b[39m\"\u001b[39m \u001b[39min\u001b[39;00m word \u001b[39mand\u001b[39;00m word[\u001b[39m0\u001b[39m] \u001b[39m!=\u001b[39m \u001b[39m\"\u001b[39m\u001b[39m-\u001b[39m\u001b[39m\"\u001b[39m:\n\u001b[1;32m    276\u001b[0m     \u001b[39mreturn\u001b[39;00m \u001b[39m\"\u001b[39m\u001b[39m!HYPHEN\u001b[39m\u001b[39m\"\u001b[39m\n\u001b[0;32m--> 277\u001b[0m \u001b[39mif\u001b[39;00m word\u001b[39m.\u001b[39;49misdigit() \u001b[39mand\u001b[39;00m \u001b[39mlen\u001b[39m(word) \u001b[39m==\u001b[39m \u001b[39m4\u001b[39m:\n\u001b[1;32m    278\u001b[0m     \u001b[39mreturn\u001b[39;00m \u001b[39m\"\u001b[39m\u001b[39m!YEAR\u001b[39m\u001b[39m\"\u001b[39m\n\u001b[1;32m    279\u001b[0m \u001b[39mif\u001b[39;00m word \u001b[39mand\u001b[39;00m word[\u001b[39m0\u001b[39m]\u001b[39m.\u001b[39misdigit():\n",
      "\u001b[0;31mAttributeError\u001b[0m: 'tuple' object has no attribute 'isdigit'"
     ]
    }
   ],
   "source": [
    "preprocess(cards['oracle_text'].sample(20))"
   ]
  }
 ],
 "metadata": {
  "kernelspec": {
   "display_name": "spells",
   "language": "python",
   "name": "python3"
  },
  "language_info": {
   "codemirror_mode": {
    "name": "ipython",
    "version": 3
   },
   "file_extension": ".py",
   "mimetype": "text/x-python",
   "name": "python",
   "nbconvert_exporter": "python",
   "pygments_lexer": "ipython3",
   "version": "3.11.3"
  },
  "orig_nbformat": 4
 },
 "nbformat": 4,
 "nbformat_minor": 2
}
