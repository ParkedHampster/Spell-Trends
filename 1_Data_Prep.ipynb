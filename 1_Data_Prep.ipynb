{
 "cells": [
  {
   "attachments": {},
   "cell_type": "markdown",
   "metadata": {},
   "source": [
    "# Data Investigation and Preparation\n",
    "\n",
    "In this notebook, we'll take a look at the obtained\n",
    "data and its sources, discuss what needs to be done to\n",
    "the data to better process it, justify cleaning\n",
    "methods, and finally export a simplified, manageable\n",
    "version of the data that was brought in.\n",
    "\n",
    "After this step, we'll move on to the next notebook\n",
    "[here](./step2.ipynb),\n",
    "where we'll perform a little more data reduction as\n",
    "needed and begin the modeling process."
   ]
  },
  {
   "attachments": {},
   "cell_type": "markdown",
   "metadata": {},
   "source": [
    "## Overview\n",
    "\n",
    "To begin, this project will be ongoing as new data\n",
    "becomes available. The initial training data was\n",
    "obtained on April 25th, 2023 from multiple sources.\n",
    "This project aims to create pricing predictions for\n",
    "Magic: the Gathering cards based on their abilities\n",
    "or \"Oracle Text\" as provided. The primary benefit of\n",
    "this project aims to be to inform players looking to\n",
    "make informed purchasing decisions, game store owners\n",
    "deciding on sales patterns, and various other\n",
    "collectors et al that would be interested in the\n",
    "buying, selling, and/or trading of Magic cards, with a\n",
    "focus on cards coming from new sets with little to no\n",
    "pricing data available.\n",
    "\n",
    "The base understanding that this operates on is that\n",
    "cards that do similar things with similar payoffs,\n",
    "costs, and features can be expected to have similar\n",
    "values."
   ]
  }
 ],
 "metadata": {
  "language_info": {
   "name": "python"
  },
  "orig_nbformat": 4
 },
 "nbformat": 4,
 "nbformat_minor": 2
}
