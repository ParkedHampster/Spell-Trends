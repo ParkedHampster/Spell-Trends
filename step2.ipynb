{
 "cells": [
  {
   "attachments": {},
   "cell_type": "markdown",
   "metadata": {},
   "source": [
    "# Data Continuation\n",
    "\n",
    "## Modeling Preparation\n",
    "\n",
    "We'll start off this process by doing much of the same\n",
    "importing as from last time."
   ]
  },
  {
   "cell_type": "code",
   "execution_count": 1,
   "metadata": {},
   "outputs": [],
   "source": [
    "import gc\n",
    "import pandas as pd\n",
    "import numpy as np\n",
    "\n",
    "import seaborn as sns\n",
    "import matplotlib.pyplot as plt\n",
    "\n",
    "import cv2\n",
    "\n",
    "#statsmodels\n",
    "from statsmodels.tsa.arima.model import ARIMA\n",
    "from statsmodels.tsa.stattools import acf, pacf, adfuller\n",
    "from statsmodels.graphics.tsaplots import plot_acf, plot_pacf\n",
    "\n",
    "from nltk.corpus import stopwords\n",
    "\n",
    "from _code.card_selection import card_sampler, \\\n",
    "            plot_card_trends, card_imager, \\\n",
    "                synthesize_names\n",
    "\n",
    "from _code.cleaner import preprocess\n",
    "\n",
    "from _code.viz import showImagesHorizontally, word_plot\n",
    "\n",
    "from _code import card_selection as FUNC_TESTING\n",
    "\n",
    "from IPython.display import Image"
   ]
  },
  {
   "cell_type": "code",
   "execution_count": 46,
   "metadata": {},
   "outputs": [],
   "source": [
    "cards = pd.read_parquet('./data/simplified_cards.parquet')"
   ]
  },
  {
   "cell_type": "code",
   "execution_count": 79,
   "metadata": {},
   "outputs": [],
   "source": [
    "processed_abilities = preprocess(cards['oracle_text'])\n",
    "fully_processed_abilities = [abilities.split('\\n') for abilities in processed_abilities]"
   ]
  },
  {
   "cell_type": "code",
   "execution_count": 80,
   "metadata": {},
   "outputs": [],
   "source": [
    "cards['abilities_list'] = fully_processed_abilities"
   ]
  },
  {
   "cell_type": "code",
   "execution_count": 83,
   "metadata": {},
   "outputs": [
    {
     "data": {
      "text/html": [
       "<div>\n",
       "<style scoped>\n",
       "    .dataframe tbody tr th:only-of-type {\n",
       "        vertical-align: middle;\n",
       "    }\n",
       "\n",
       "    .dataframe tbody tr th {\n",
       "        vertical-align: top;\n",
       "    }\n",
       "\n",
       "    .dataframe thead th {\n",
       "        text-align: right;\n",
       "    }\n",
       "</style>\n",
       "<table border=\"1\" class=\"dataframe\">\n",
       "  <thead>\n",
       "    <tr style=\"text-align: right;\">\n",
       "      <th></th>\n",
       "      <th>name</th>\n",
       "      <th>oracle_text</th>\n",
       "      <th>abilities_list</th>\n",
       "      <th>median_foil</th>\n",
       "      <th>median_normal</th>\n",
       "    </tr>\n",
       "  </thead>\n",
       "  <tbody>\n",
       "    <tr>\n",
       "      <th>0</th>\n",
       "      <td>Fury Sliver</td>\n",
       "      <td>All Sliver creatures have double strike.</td>\n",
       "      <td>[sliver creature double strike]</td>\n",
       "      <td>3.95</td>\n",
       "      <td>0.380</td>\n",
       "    </tr>\n",
       "    <tr>\n",
       "      <th>1</th>\n",
       "      <td>Kor Outfitter</td>\n",
       "      <td>When CARDNAME enters the battlefield, you may ...</td>\n",
       "      <td>[cardname enters battlefield may attach target...</td>\n",
       "      <td>7.78</td>\n",
       "      <td>0.240</td>\n",
       "    </tr>\n",
       "    <tr>\n",
       "      <th>2</th>\n",
       "      <td>Siren Lookout</td>\n",
       "      <td>Flying\\nWhen CARDNAME enters the battlefield, ...</td>\n",
       "      <td>[fly ,  cardname enters battlefield explores ]</td>\n",
       "      <td>0.23</td>\n",
       "      <td>0.060</td>\n",
       "    </tr>\n",
       "    <tr>\n",
       "      <th>3</th>\n",
       "      <td>Web</td>\n",
       "      <td>Enchant creature (Target a creature as you cas...</td>\n",
       "      <td>[enchant creature  ,  enchant creature get +0/...</td>\n",
       "      <td>NaN</td>\n",
       "      <td>0.640</td>\n",
       "    </tr>\n",
       "    <tr>\n",
       "      <th>4</th>\n",
       "      <td>Venerable Knight</td>\n",
       "      <td>When CARDNAME dies, put a +1/+1 counter on tar...</td>\n",
       "      <td>[cardname die put +1/+1 counter target knight ...</td>\n",
       "      <td>0.28</td>\n",
       "      <td>0.095</td>\n",
       "    </tr>\n",
       "  </tbody>\n",
       "</table>\n",
       "</div>"
      ],
      "text/plain": [
       "               name                                        oracle_text   \n",
       "0       Fury Sliver           All Sliver creatures have double strike.  \\\n",
       "1     Kor Outfitter  When CARDNAME enters the battlefield, you may ...   \n",
       "2     Siren Lookout  Flying\\nWhen CARDNAME enters the battlefield, ...   \n",
       "3               Web  Enchant creature (Target a creature as you cas...   \n",
       "4  Venerable Knight  When CARDNAME dies, put a +1/+1 counter on tar...   \n",
       "\n",
       "                                      abilities_list  median_foil   \n",
       "0                    [sliver creature double strike]         3.95  \\\n",
       "1  [cardname enters battlefield may attach target...         7.78   \n",
       "2     [fly ,  cardname enters battlefield explores ]         0.23   \n",
       "3  [enchant creature  ,  enchant creature get +0/...          NaN   \n",
       "4  [cardname die put +1/+1 counter target knight ...         0.28   \n",
       "\n",
       "   median_normal  \n",
       "0          0.380  \n",
       "1          0.240  \n",
       "2          0.060  \n",
       "3          0.640  \n",
       "4          0.095  "
      ]
     },
     "execution_count": 83,
     "metadata": {},
     "output_type": "execute_result"
    }
   ],
   "source": [
    "cards.head()[['name','oracle_text','abilities_list','median_foil','median_normal']]"
   ]
  },
  {
   "attachments": {},
   "cell_type": "markdown",
   "metadata": {},
   "source": [
    "=======================================================\n",
    "EXPLORATORY OPTIONS  \n",
    "======================================================="
   ]
  },
  {
   "cell_type": "code",
   "execution_count": 72,
   "metadata": {},
   "outputs": [],
   "source": [
    "_test = cards.iloc[3]['oracle_text']"
   ]
  },
  {
   "cell_type": "code",
   "execution_count": 78,
   "metadata": {},
   "outputs": [
    {
     "data": {
      "text/plain": [
       "['Enchant',\n",
       " 'creature',\n",
       " '',\n",
       " '\\n',\n",
       " 'Enchanted',\n",
       " 'creature',\n",
       " 'gets',\n",
       " '+0/+2',\n",
       " 'and',\n",
       " 'has',\n",
       " 'reach',\n",
       " '']"
      ]
     },
     "execution_count": 78,
     "metadata": {},
     "output_type": "execute_result"
    }
   ],
   "source": [
    "tokenizer.tokenize(_test)"
   ]
  },
  {
   "cell_type": "code",
   "execution_count": 20,
   "metadata": {},
   "outputs": [],
   "source": [
    "\n",
    "from nltk.tokenize import RegexpTokenizer"
   ]
  },
  {
   "cell_type": "code",
   "execution_count": 22,
   "metadata": {},
   "outputs": [
    {
     "data": {
      "text/plain": [
       "['this', 'is', 'a', 'test']"
      ]
     },
     "execution_count": 22,
     "metadata": {},
     "output_type": "execute_result"
    }
   ],
   "source": [
    "tokenizer = RegexpTokenizer(r\"(\\{?[a-zA-Z]+(?:’[a-z]+)?\\}?|[+-]?\\d\\/[+-]?\\d|\\{\\d\\d?\\})\")\n",
    "tokenizer.tokenize(\"this is a test!\")"
   ]
  },
  {
   "cell_type": "code",
   "execution_count": 77,
   "metadata": {},
   "outputs": [
    {
     "data": {
      "text/plain": [
       "['this', 'is', 'a', 'test', '\\n', '']"
      ]
     },
     "execution_count": 77,
     "metadata": {},
     "output_type": "execute_result"
    }
   ],
   "source": [
    "tokenizer = RegexpTokenizer(r\"([a-zA-Z]+(?:’[a-z]+)?|[+-]?\\d\\/[+-]?\\d|\\{\\d\\d?\\}|\\{.\\s?.?\\}|\\n)|\\(.+?\\)\")\n",
    "# make texts lowercase\n",
    "# texts = [str(phrase).lower() for phrase in texts]\n",
    "tokenizer.tokenize('this is a test\\n (of the system)')"
   ]
  },
  {
   "cell_type": "code",
   "execution_count": 57,
   "metadata": {},
   "outputs": [],
   "source": [
    "_collect = cards['oracle_text'].sample(50)\n",
    "_collect = preprocess(_collect)\n",
    "_collection = [abilities.split('\\n') for abilities in _collect]"
   ]
  },
  {
   "cell_type": "code",
   "execution_count": 58,
   "metadata": {},
   "outputs": [
    {
     "data": {
      "text/plain": [
       "[['target creature gain double strike end turn '],\n",
       " ['{t} add {c} ',\n",
       "  ' {1} {t} sacrifice cardname search library basic forest plain island card put onto battlefield tap shuffle'],\n",
       " ['{t} add {w}'],\n",
       " ['cardname enters battlefield tapped ', ' {t} add {w} {u}'],\n",
       " ['cardname enters battlefield tapped unless control mountain forest ',\n",
       "  ' {t} add {r} {g}'],\n",
       " ['outlast {1} {b} '],\n",
       " [''],\n",
       " ['fly deathtouch ',\n",
       "  ' cardname die choose one ',\n",
       "  ' search library three land card reveal put hand shuffle ',\n",
       "  ' create x x green spirit creature token x number land control'],\n",
       " ['add {b} {b} {b}'],\n",
       " ['{2} {g} {u} draw card may put land card hand onto battlefield'],\n",
       " ['cardname block'],\n",
       " ['split second  ',\n",
       "  ' choose target card graveyard basic land card search owner graveyard hand library card name card exile player shuffle'],\n",
       " ['player sacrifice creature create x x black demon creature token fly x total power creature sacrifice way'],\n",
       " ['cardname enters battlefield tapped unless two opponent ',\n",
       "  ' {t} add {g} {w}'],\n",
       " ['{t} add {c} ',\n",
       "  ' {2} {t} scry may reveal top card library basic land card reveal way put onto battlefield tap activate opponent control least two land'],\n",
       " ['cardname enters battlefield tapped ', ' {t} add {u} {b}'],\n",
       " ['{4} {t} search library rebel permanent card mana value less put onto battlefield shuffle'],\n",
       " ['put target creature top owner library'],\n",
       " ['mama come whenever cardname attack player control eight land look top eight card library may put creature card among onto battlefield tap attack player put rest bottom library random order'],\n",
       " ['{t} sacrifice cardname search library basic land card put onto battlefield tap shuffle'],\n",
       " ['cardname get +1/+0 long attack'],\n",
       " ['visit choose vampire zombie fire lightning explosion metallic creature random ten second search library reveal card chosen item art claim prize shuffle ',\n",
       "  ' prize get {tk} {tk} may put sticker nonland permanent sacrifice cardname open attraction'],\n",
       " ['cardname enters battlefield opponent loses x life gain x life x number creature party '],\n",
       " ['may cast cardname though flash pay {2} cast  ',\n",
       "  ' destroy creature regenerate'],\n",
       " ['search library forest card put card onto battlefield shuffle'],\n",
       " ['haste  ', ' cardname enters battlefield tap creature'],\n",
       " ['player discard card lose life sacrifice artifact creature enchantment land planeswalker tribal permanent exile card graveyard put top card library graveyard remove counter permanent control get poison counter'],\n",
       " ['cardname deal damage opponent opponent sacrifice creature great power among creature player control'],\n",
       " ['return target tap creature owner hand ', ' draw card'],\n",
       " ['fly ',\n",
       "  ' whenever cardname attack deal damage target equal number card draw turn'],\n",
       " ['swampwalk '],\n",
       " ['reach ',\n",
       "  ' elf creature control get +1/+1 ',\n",
       "  ' whenever cardname attack gain life attack elf control'],\n",
       " ['choose one ',\n",
       "  ' cardname deal damage target creature planeswalker ',\n",
       "  ' destroy target equipment'],\n",
       " ['counter target spell'],\n",
       " [''],\n",
       " ['sliver creature get +0/+2'],\n",
       " ['{2} cardname deal damage target sacrifice cardname'],\n",
       " ['{t} add {c} ', ' {t} add {w} {b} cardname deal damage'],\n",
       " ['renata power equal devotion green  ',\n",
       "  ' creature control enter battlefield additional +1/+1 counter'],\n",
       " ['fly first strike ',\n",
       "  ' whenever cardname deal combat damage player put +1/+1 counter attack creature control'],\n",
       " ['{t} add {c} ', ' {t} add {g} {w} cardname deal damage'],\n",
       " ['{t} add {w} ',\n",
       "  ' cardname put graveyard battlefield may search library plain card put onto battlefield tap shuffle'],\n",
       " ['fly ',\n",
       "  ' cardname enters battlefield choose target human artifact opponent control long cardname remain battlefield gain control permanent lose ability attack block'],\n",
       " ['dwarf control get +1/+0 ',\n",
       "  ' whenever dwarf control become tapped create treasure token ',\n",
       "  ' sacrifice five treasure search library artifact dragon card put card onto battlefield shuffle'],\n",
       " [''],\n",
       " ['play hand reveal ',\n",
       "  ' would draw card reveal top card library instead creature card put graveyard otherwise draw card ',\n",
       "  ' whenever creature put graveyard battlefield return hand'],\n",
       " ['cardname enters battlefield tapped ',\n",
       "  ' cardname enters battlefield target creature gain fly end turn ',\n",
       "  ' {t} add {u}'],\n",
       " ['{t} target land become basic land type choice end turn'],\n",
       " ['equipped creature get +1/+1 ', ' equip {1} '],\n",
       " ['long cardname untapped spell would cost less three mana cast cost three mana cast ']]"
      ]
     },
     "execution_count": 58,
     "metadata": {},
     "output_type": "execute_result"
    }
   ],
   "source": [
    "_collection"
   ]
  }
 ],
 "metadata": {
  "kernelspec": {
   "display_name": "spells",
   "language": "python",
   "name": "python3"
  },
  "language_info": {
   "codemirror_mode": {
    "name": "ipython",
    "version": 3
   },
   "file_extension": ".py",
   "mimetype": "text/x-python",
   "name": "python",
   "nbconvert_exporter": "python",
   "pygments_lexer": "ipython3",
   "version": "3.11.3"
  },
  "orig_nbformat": 4
 },
 "nbformat": 4,
 "nbformat_minor": 2
}
